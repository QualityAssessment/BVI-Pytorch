{
 "cells": [
  {
   "cell_type": "code",
   "execution_count": 365,
   "id": "c9691168-50df-47da-a534-11acdd131a79",
   "metadata": {},
   "outputs": [],
   "source": [
    "import pickle as pkl\n",
    "import numpy as np\n",
    "\n",
    "## define your dataset name here\n",
    "\n",
    "dataset_name =\"livevqc\""
   ]
  },
  {
   "cell_type": "code",
   "execution_count": 366,
   "id": "61f2a004-c36e-44cf-80df-7c394933685c",
   "metadata": {},
   "outputs": [],
   "source": [
    "with open(\"semantic_affinity_pubs.pkl\",\"rb\") as infile:\n",
    "    sa = pkl.load(infile)"
   ]
  },
  {
   "cell_type": "code",
   "execution_count": 367,
   "id": "676b09cc-c7a6-4d7b-8a7f-c9c545c26b0d",
   "metadata": {},
   "outputs": [],
   "source": [
    "with open(f\"spatial_naturalness_val-{dataset_name}.pkl\",\"rb\") as infile:\n",
    "    sn = pkl.load(infile)\n",
    "gt = sn[\"gt_labels\"]\n",
    "sn = sn[\"pr_labels\"]"
   ]
  },
  {
   "cell_type": "code",
   "execution_count": 368,
   "id": "9025b9b7-2475-413f-9bc1-6be37a5569e9",
   "metadata": {},
   "outputs": [],
   "source": [
    "with open(\"temporal_naturalness_pubs.pkl\",\"rb\") as infile:\n",
    "    tn2 = pkl.load(infile)\n",
    "\n",
    "tn2 = tn2[f\"val-{dataset_name}\"][\"tn_index\"]"
   ]
  },
  {
   "cell_type": "code",
   "execution_count": 369,
   "id": "e2212363-cd12-4fd2-b0e4-39dac66c2033",
   "metadata": {},
   "outputs": [],
   "source": [
    "from scipy.stats import spearmanr, pearsonr, kendalltau as kendallr"
   ]
  },
  {
   "cell_type": "code",
   "execution_count": 370,
   "id": "4969443f-0c84-4032-8ca0-51fe4331fed2",
   "metadata": {},
   "outputs": [],
   "source": [
    "if dataset_name != \"ytugc\":\n",
    "    pr = sn + tn2 +sa[f\"val-{dataset_name}\"][\"sa_index\"]\n",
    "else:\n",
    "    # temporal naturalness will degrade ytugc's performance\n",
    "    pr = sn + sa[f\"val-{dataset_name}\"][\"sa_index\"]"
   ]
  },
  {
   "cell_type": "code",
   "execution_count": 371,
   "id": "67d4a6fc-3e69-41ae-9fac-c59aa1f1819f",
   "metadata": {},
   "outputs": [
    {
     "data": {
      "text/plain": [
       "(0.7442855053742804, 0.7654668036337393, 0.5491820313278161)"
      ]
     },
     "execution_count": 371,
     "metadata": {},
     "output_type": "execute_result"
    }
   ],
   "source": [
    "# SROCC, PLCC, KROCC\n",
    "spearmanr(pr, gt)[0], pearsonr(pr, gt)[0], kendallr(pr, gt)[0]"
   ]
  },
  {
   "cell_type": "code",
   "execution_count": null,
   "id": "5e02d8c0-8626-4235-93d0-104f0a089226",
   "metadata": {},
   "outputs": [],
   "source": []
  },
  {
   "cell_type": "code",
   "execution_count": null,
   "id": "0167cb18-c7a3-4b37-bd72-7900a861ec90",
   "metadata": {},
   "outputs": [],
   "source": []
  }
 ],
 "metadata": {
  "kernelspec": {
   "display_name": "Python 3 (ipykernel)",
   "language": "python",
   "name": "python3"
  },
  "language_info": {
   "codemirror_mode": {
    "name": "ipython",
    "version": 3
   },
   "file_extension": ".py",
   "mimetype": "text/x-python",
   "name": "python",
   "nbconvert_exporter": "python",
   "pygments_lexer": "ipython3",
   "version": "3.8.8"
  }
 },
 "nbformat": 4,
 "nbformat_minor": 5
}
