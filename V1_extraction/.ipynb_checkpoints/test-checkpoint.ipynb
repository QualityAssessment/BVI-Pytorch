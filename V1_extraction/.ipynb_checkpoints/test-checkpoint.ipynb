{
 "cells": [],
 "metadata": {
  "kernelspec": {
   "display_name": "Python 3.9.12 ('iqa')",
   "language": "python",
   "name": "python3"
  },
  "language_info": {
   "codemirror_mode": {
    "name": "ipython",
    "version": 3
   },
   "file_extension": ".py",
   "mimetype": "text/x-python",
   "name": "python",
   "nbconvert_exporter": "python",
   "pygments_lexer": "ipython3",
   "version": "3.9.12"
  },
  "orig_nbformat": 4,
  "vscode": {
   "interpreter": {
    "hash": "fb1276e15dbfd6d9f726973715cb01e5c3952fa6cfd61d630a76971919f70321"
   }
  }
 },
 "nbformat": 4,
 "nbformat_minor": 2
}
